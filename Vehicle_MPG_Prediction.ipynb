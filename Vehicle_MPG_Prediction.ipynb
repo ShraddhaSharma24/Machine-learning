{
  "nbformat": 4,
  "nbformat_minor": 0,
  "metadata": {
    "colab": {
      "provenance": [],
      "authorship_tag": "ABX9TyOg8jGVaStJCyCjzJxD1RQ1",
      "include_colab_link": true
    },
    "kernelspec": {
      "name": "python3",
      "display_name": "Python 3"
    },
    "language_info": {
      "name": "python"
    }
  },
  "cells": [
    {
      "cell_type": "markdown",
      "metadata": {
        "id": "view-in-github",
        "colab_type": "text"
      },
      "source": [
        "<a href=\"https://colab.research.google.com/github/ShraddhaSharma24/Machine-learning/blob/main/Vehicle_MPG_Prediction.ipynb\" target=\"_parent\"><img src=\"https://colab.research.google.com/assets/colab-badge.svg\" alt=\"Open In Colab\"/></a>"
      ]
    },
    {
      "cell_type": "markdown",
      "source": [
        "Project Overview\n",
        "\n",
        "This project aims to develop a machine learning model to predict the miles per gallon (MPG) of a vehicle based on various features such as engine specifications, weight, acceleration, and model year. The dataset used is the MPG dataset from the Seaborn library, which contains fuel efficiency data for different cars.\n",
        "\n",
        "Objective\n",
        "\n",
        "The goal of this project is to:\n",
        "\n",
        "Analyze the relationship between vehicle features and fuel efficiency.\n",
        "\n",
        "Build machine learning models to predict the MPG of vehicles accurately.\n",
        "\n",
        "Compare the performance of different models.\n",
        "\n",
        "Provide insights for automotive industry applications, such as fuel efficiency optimization and vehicle design improvements.\n",
        "\n",
        "Dataset Description\n",
        "\n",
        "The dataset includes the following features:\n",
        "\n",
        "Cylinders: Number of cylinders in the engine.\n",
        "\n",
        "Displacement: Volume of the engine in cubic inches.\n",
        "\n",
        "Horsepower: Power output of the vehicle.\n",
        "\n",
        "Weight: Weight of the vehicle.\n",
        "\n",
        "Acceleration: Time taken to reach a certain speed.\n",
        "\n",
        "Model Year: Year the vehicle model was produced.\n",
        "\n",
        "Origin: Categorical variable indicating whether the car was manufactured in the USA, Europe, or Japan.\n",
        "\n",
        "Approach\n",
        "\n",
        "Data Preprocessing:\n",
        "\n",
        "Handle missing values by removing incomplete rows.\n",
        "\n",
        "Convert categorical variables (origin) into numerical format using one-hot encoding.\n",
        "\n",
        "Split the data into training and testing sets.\n",
        "\n",
        "Feature Scaling:\n",
        "\n",
        "Standardize numerical features to improve model performance.\n",
        "\n",
        "Model Training:\n",
        "\n",
        "Train a Linear Regression model.\n",
        "\n",
        "Train a Random Forest Regressor as a more complex model.\n",
        "\n",
        "Model Evaluation:\n",
        "\n",
        "Compare models using Mean Absolute Error (MAE) and R² Score.\n",
        "\n",
        "Visualize the predicted vs actual MPG values.\n",
        "\n",
        "Results\n",
        "\n",
        "Linear Regression Model:\n",
        "\n",
        "MAE: Varies based on dataset split.\n",
        "\n",
        "R² Score: Moderate performance, struggles with non-linearity.\n",
        "\n",
        "Random Forest Regressor:\n",
        "\n",
        "MAE: Lower error compared to Linear Regression.\n",
        "\n",
        "R² Score: Higher accuracy due to its ability to handle non-linearity.\n",
        "\n",
        "Applications\n",
        "\n",
        "This project has real-world applications in the automotive industry, including:\n",
        "\n",
        "Fuel efficiency optimization for future vehicle models.\n",
        "\n",
        "Performance analysis for eco-friendly vehicle designs.\n",
        "\n",
        "Integration with autonomous vehicle systems to predict energy consumption.\n",
        "\n",
        "Future Improvements\n",
        "\n",
        "Experiment with additional models such as Gradient Boosting or Neural Networks.\n",
        "\n",
        "Perform hyperparameter tuning for improved accuracy.\n",
        "\n",
        "Incorporate real-time vehicle data for predictive maintenance."
      ],
      "metadata": {
        "id": "jBX38y5Dkt-l"
      }
    },
    {
      "cell_type": "code",
      "execution_count": 29,
      "metadata": {
        "id": "8oa8R0zeWNqf"
      },
      "outputs": [],
      "source": [
        "import pandas as pd\n",
        "import numpy as np\n",
        "import matplotlib.pyplot as plt\n",
        "import seaborn as sns\n",
        "from sklearn.model_selection import train_test_split\n",
        "from sklearn.preprocessing import StandardScaler\n",
        "from sklearn.linear_model import LinearRegression\n",
        "from sklearn.ensemble import RandomForestRegressor\n",
        "from sklearn.metrics import mean_absolute_error, r2_score"
      ]
    },
    {
      "cell_type": "code",
      "source": [
        "import pandas as pd\n",
        "import numpy as np\n",
        "import matplotlib.pyplot as plt\n",
        "import seaborn as sns\n",
        "from sklearn.model_selection import train_test_split\n",
        "from sklearn.preprocessing import StandardScaler\n",
        "from sklearn.linear_model import LinearRegression\n",
        "from sklearn.ensemble import RandomForestRegressor, GradientBoostingRegressor\n",
        "from sklearn.metrics import mean_absolute_error, r2_score\n",
        "import tensorflow as tf\n",
        "from tensorflow import keras\n",
        "from tensorflow.keras.models import Sequential\n",
        "from tensorflow.keras.layers import Dense"
      ],
      "metadata": {
        "id": "QheWwfIbmUe-"
      },
      "execution_count": 1,
      "outputs": []
    },
    {
      "cell_type": "code",
      "source": [
        "# Step 1: Load the Dataset\n",
        "dataset_url = \"https://raw.githubusercontent.com/mwaskom/seaborn-data/master/mpg.csv\"\n",
        "df = pd.read_csv(dataset_url)"
      ],
      "metadata": {
        "id": "9CGPaOb8WO-G"
      },
      "execution_count": 2,
      "outputs": []
    },
    {
      "cell_type": "code",
      "source": [
        "# Step 2: Data Preprocessing\n",
        "# Drop rows with missing values\n",
        "df = df.dropna()"
      ],
      "metadata": {
        "id": "mHxKkqR2WVju"
      },
      "execution_count": 3,
      "outputs": []
    },
    {
      "cell_type": "code",
      "source": [
        "# Map 'origin' column: 1 -> 'USA', 2 -> 'Europe', 3 -> 'Japan'\n",
        "df['origin'] = df['origin'].replace({1: 'USA', 2: 'Europe', 3: 'Japan'})\n"
      ],
      "metadata": {
        "id": "bAY_4mCfW60O"
      },
      "execution_count": 5,
      "outputs": []
    },
    {
      "cell_type": "code",
      "source": [
        "# Convert 'origin' (categorical) into dummy variables\n",
        "df = pd.get_dummies(df, columns=['origin'], drop_first=True)"
      ],
      "metadata": {
        "id": "3hDtXLlEWWkB"
      },
      "execution_count": 6,
      "outputs": []
    },
    {
      "cell_type": "code",
      "source": [
        "# Print column names to verify dummy variable names\n",
        "print(\"Columns in DataFrame after encoding:\", df.columns)"
      ],
      "metadata": {
        "colab": {
          "base_uri": "https://localhost:8080/"
        },
        "id": "eSsZ7kfgWZjX",
        "outputId": "0618cfb2-084a-451f-a2ee-fc5d7c2aa79f"
      },
      "execution_count": 7,
      "outputs": [
        {
          "output_type": "stream",
          "name": "stdout",
          "text": [
            "Columns in DataFrame after encoding: Index(['mpg', 'cylinders', 'displacement', 'horsepower', 'weight',\n",
            "       'acceleration', 'model_year', 'name', 'origin_japan', 'origin_usa'],\n",
            "      dtype='object')\n"
          ]
        }
      ]
    },
    {
      "cell_type": "code",
      "source": [
        "# Use the correct column names\n",
        "dummy_columns = [col for col in df.columns if 'origin' in col]"
      ],
      "metadata": {
        "id": "2vrzGX8oX5sC"
      },
      "execution_count": 8,
      "outputs": []
    },
    {
      "cell_type": "code",
      "source": [
        "# Select features and target\n",
        "X = df[['cylinders', 'displacement', 'horsepower', 'weight', 'acceleration', 'model_year'] + dummy_columns]\n",
        "y = df['mpg']"
      ],
      "metadata": {
        "id": "iyp8ljdvX89l"
      },
      "execution_count": 9,
      "outputs": []
    },
    {
      "cell_type": "code",
      "source": [
        "# Step 3: Train-Test Split\n",
        "X_train, X_test, y_train, y_test = train_test_split(X, y, test_size=0.2, random_state=42)\n"
      ],
      "metadata": {
        "id": "7rA6Nw7OWcMQ"
      },
      "execution_count": 10,
      "outputs": []
    },
    {
      "cell_type": "code",
      "source": [
        "# Step 4: Standardize Numerical Features\n",
        "scaler = StandardScaler()\n",
        "X_train_scaled = scaler.fit_transform(X_train)\n",
        "X_test_scaled = scaler.transform(X_test)"
      ],
      "metadata": {
        "id": "1gkXqp3cYAi1"
      },
      "execution_count": 11,
      "outputs": []
    },
    {
      "cell_type": "code",
      "source": [
        "# Step 5: Train Machine Learning Models\n",
        "# Linear Regression\n",
        "lr_model = LinearRegression()\n",
        "lr_model.fit(X_train_scaled, y_train)\n",
        "lr_preds = lr_model.predict(X_test_scaled)"
      ],
      "metadata": {
        "id": "OHv7_Tv0YEPW"
      },
      "execution_count": 12,
      "outputs": []
    },
    {
      "cell_type": "code",
      "source": [
        "# Random Forest Regressor\n",
        "rf_model = RandomForestRegressor(n_estimators=100, random_state=42)\n",
        "rf_model.fit(X_train, y_train)\n",
        "rf_preds = rf_model.predict(X_test)"
      ],
      "metadata": {
        "id": "nPUCCYw9YGvF"
      },
      "execution_count": 13,
      "outputs": []
    },
    {
      "cell_type": "code",
      "source": [
        "#Gradient Boosting Regressor\n",
        "gb_model = GradientBoostingRegressor(n_estimators=100, learning_rate=0.1, random_state=42)\n",
        "gb_model.fit(X_train, y_train)\n",
        "gb_preds = gb_model.predict(X_test)"
      ],
      "metadata": {
        "id": "sfTd2QQFlfyp"
      },
      "execution_count": 14,
      "outputs": []
    },
    {
      "cell_type": "code",
      "source": [
        "#Neural Network Model\n",
        "nn_model = Sequential([\n",
        "Dense(64, activation='relu', input_shape=(X_train.shape[1],)),\n",
        "Dense(32, activation='relu'),\n",
        "Dense(1)\n",
        "])\n",
        "\n",
        "nn_model.compile(optimizer='adam', loss='mse', metrics=['mae'])\n",
        "nn_model.fit(X_train_scaled, y_train, epochs=100, batch_size=10, verbose=0)\n",
        "nn_preds = nn_model.predict(X_test_scaled).flatten()"
      ],
      "metadata": {
        "colab": {
          "base_uri": "https://localhost:8080/"
        },
        "id": "m41327W7ltqY",
        "outputId": "9ba06a4e-6e4a-4df7-d341-ad75e6471ce2"
      },
      "execution_count": 15,
      "outputs": [
        {
          "output_type": "stream",
          "name": "stderr",
          "text": [
            "/usr/local/lib/python3.11/dist-packages/keras/src/layers/core/dense.py:87: UserWarning: Do not pass an `input_shape`/`input_dim` argument to a layer. When using Sequential models, prefer using an `Input(shape)` object as the first layer in the model instead.\n",
            "  super().__init__(activity_regularizer=activity_regularizer, **kwargs)\n"
          ]
        },
        {
          "output_type": "stream",
          "name": "stdout",
          "text": [
            "\u001b[1m3/3\u001b[0m \u001b[32m━━━━━━━━━━━━━━━━━━━━\u001b[0m\u001b[37m\u001b[0m \u001b[1m0s\u001b[0m 25ms/step\n"
          ]
        }
      ]
    },
    {
      "cell_type": "code",
      "source": [
        "# Step 6: Evaluate Models\n",
        "def evaluate_model(model_name, y_true, y_pred):\n",
        " print(f\"{model_name} Performance:\")\n",
        " print(f\"MAE: {mean_absolute_error(y_true, y_pred):.2f}\")\n",
        " print(f\"R² Score: {r2_score(y_true, y_pred):.2f}\\n\")\n",
        "\n",
        "evaluate_model(\"Linear Regression\", y_test, lr_preds)\n",
        "evaluate_model(\"Random Forest Regressor\", y_test, rf_preds)\n",
        "evaluate_model(\"Gradient Boosting Regressor\", y_test, gb_preds)\n",
        "evaluate_model(\"Neural Network\", y_test, nn_preds)"
      ],
      "metadata": {
        "colab": {
          "base_uri": "https://localhost:8080/"
        },
        "id": "hUtMCtGeYJdp",
        "outputId": "8ef69d79-f5a0-49fe-a8ca-9dc4a1eee192"
      },
      "execution_count": 17,
      "outputs": [
        {
          "output_type": "stream",
          "name": "stdout",
          "text": [
            "Linear Regression Performance:\n",
            "MAE: 2.46\n",
            "R² Score: 0.79\n",
            "\n",
            "Random Forest Regressor Performance:\n",
            "MAE: 1.72\n",
            "R² Score: 0.89\n",
            "\n",
            "Gradient Boosting Regressor Performance:\n",
            "MAE: 1.80\n",
            "R² Score: 0.88\n",
            "\n",
            "Neural Network Performance:\n",
            "MAE: 1.73\n",
            "R² Score: 0.88\n",
            "\n"
          ]
        }
      ]
    },
    {
      "cell_type": "code",
      "source": [
        "# Step 7: Visualization\n",
        "plt.figure(figsize=(10, 5))\n",
        "sns.scatterplot(x=y_test, y=rf_preds, alpha=0.7)\n",
        "plt.xlabel(\"Actual MPG\")\n",
        "plt.ylabel(\"Predicted MPG\")\n",
        "plt.title(\"Actual vs Predicted MPG (Random Forest)\")\n",
        "plt.show()"
      ],
      "metadata": {
        "colab": {
          "base_uri": "https://localhost:8080/",
          "height": 487
        },
        "id": "FI5EVR9ZYPj3",
        "outputId": "f4e4d525-f195-4736-e956-55d5f1851c83"
      },
      "execution_count": 18,
      "outputs": [
        {
          "output_type": "display_data",
          "data": {
            "text/plain": [
              "<Figure size 1000x500 with 1 Axes>"
            ],
            "image/png": "[encoded data removed]"
          },
          "metadata": {}
        }
      ]
    },
    {
      "cell_type": "code",
      "source": [],
      "metadata": {
        "id": "Ok7E0OJYYS24"
      },
      "execution_count": null,
      "outputs": []
    }
  ]
}